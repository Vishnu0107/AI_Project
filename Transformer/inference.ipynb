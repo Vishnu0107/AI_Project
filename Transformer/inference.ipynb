{
 "cells": [
  {
   "cell_type": "code",
   "execution_count": 9,
   "metadata": {},
   "outputs": [],
   "source": [
    "from pathlib import Path\n",
    "import torch\n",
    "import torch.nn as nn\n",
    "from config import get_config, get_weights_file_path\n",
    "from train import get_model, get_ds, run_validation\n",
    "import tqdm as notebook_tqdm"
   ]
  },
  {
   "cell_type": "code",
   "execution_count": 11,
   "metadata": {},
   "outputs": [
    {
     "name": "stdout",
     "output_type": "stream",
     "text": [
      "Using device cuda\n",
      "Max length of source sentence is 309\n",
      "Max length of target sentence is 274\n"
     ]
    },
    {
     "name": "stderr",
     "output_type": "stream",
     "text": [
      "C:\\Users\\Vishnu Narayanan\\AppData\\Local\\Temp\\ipykernel_18296\\672887873.py:10: FutureWarning: You are using `torch.load` with `weights_only=False` (the current default value), which uses the default pickle module implicitly. It is possible to construct malicious pickle data which will execute arbitrary code during unpickling (See https://github.com/pytorch/pytorch/blob/main/SECURITY.md#untrusted-models for more details). In a future release, the default value for `weights_only` will be flipped to `True`. This limits the functions that could be executed during unpickling. Arbitrary objects will no longer be allowed to be loaded via this mode unless they are explicitly allowlisted by the user via `torch.serialization.add_safe_globals`. We recommend you start setting `weights_only=True` for any use case where you don't have full control of the loaded file. Please open an issue on GitHub for any issues related to this experimental feature.\n",
      "  state = torch.load(\"G:/Random_Stuff/Projects/Fine_Tuned_Llama/weights/tmodel_19.pt\")\n"
     ]
    },
    {
     "data": {
      "text/plain": [
       "<All keys matched successfully>"
      ]
     },
     "execution_count": 11,
     "metadata": {},
     "output_type": "execute_result"
    }
   ],
   "source": [
    "# Define the device\n",
    "device = torch.device('cuda' if torch.cuda.is_available() else 'cpu')\n",
    "print(f'Using device {device}')\n",
    "config = get_config()\n",
    "train_dataloader, val_dataloader, tokenizer_src, tokenizer_tgt = get_ds(config)\n",
    "model = get_model(config, tokenizer_src.get_vocab_size(), tokenizer_tgt.get_vocab_size()).to(device)\n",
    "\n",
    "# Load the pretrained weights\n",
    "model_filename = get_weights_file_path(config, f\"10\")\n",
    "state = torch.load(\"G:/Random_Stuff/Projects/Fine_Tuned_Llama/weights/tmodel_19.pt\")\n",
    "model.load_state_dict(state['model_state_dict'])"
   ]
  },
  {
   "cell_type": "code",
   "execution_count": 12,
   "metadata": {},
   "outputs": [
    {
     "name": "stdout",
     "output_type": "stream",
     "text": [
      "--------------------------------------------------------------------------------\n",
      "Source: By this means all her quarter was free, and all that was in that part was dry; for you may be sure my first work was to search, and to see what was spoiled and what was free. And, first, I found that all the ship’s provisions were dry and untouched by the water, and being very well disposed to eat, I went to the bread room and filled my pockets with biscuit, and ate it as I went about other things, for I had no time to lose.\n",
      "Target: Trovai allora il vascello tutto conquassato e grande quantità d’acqua nella stiva; ma stava puntellato in tal guisa sopra un banco di fitta sabbia o piuttosto di terra, che mentre la sua poppa rimanea sollevata su questo suolo, la prora toccava quasi la superficie dell’acqua; e però quanto stava tra le parasarchie di maestra e la poppa, era intatto ed asciutto: perchè potete ben immaginarvi che le mie prime indagini furono volte ad osservare lo stato delle provvigioni, rinvenute tutte non danneggiate punto dall’acqua; e v’immaginerete ancora che, dispostissimo com’era a mangiare, corsi innanzi di far altro al deposito del pane, ove empiei i miei taschini di biscotto, e ne mangiava mentre spediva insieme altre faccende, perchè tempo da perdere io non ne avea.\n",
      "Predicted: Nel primo momento in cui il suo servo era certo certo certo più grande ; e , a parte di questa parte di prima di prima di prima di prima di prima prima di nuovo , e il mio sostentamento ; e , al mio sostentamento , la sua giorni fu di far molto che ne fu a bordo di vedere in un po ’ alla spiaggia .\n",
      "--------------------------------------------------------------------------------\n",
      "Source: But when for their own ambitious ends they shun binding themselves, it is a token that they are giving more thought to themselves than to you, and a prince ought to guard against such, and to fear them as if they were open enemies, because in adversity they always help to ruin him.\n",
      "Target: Ma, quando non si obbligano ad arte e per cagione ambiziosa, è segno come pensano più a sé che a te; e da quelli si debbe el principe guardare, e temerli come se fussino scoperti inimici, perché sempre, nelle avversità, aiuteranno ruinarlo.\n",
      "Predicted: Ma i momenti si avvicinavano in mezzo fra i quali avevano meno alte di noi , e li forze : non c ’ è vero che vi el re , l ’ azienda che non è mai , se ne , in quest ’ altra parte della vita , o meglio .\n",
      "--------------------------------------------------------------------------------\n",
      "Source: 'I ought to have done that long ago.'\n",
      "Target: — E bisognava far così da un pezzo.\n",
      "Predicted: — Io sono stata così .\n",
      "--------------------------------------------------------------------------------\n",
      "Source: But first I must write to both of them.'\n",
      "Target: Ma prima devo scrivere a tutti e due».\n",
      "Predicted: Ma nel dir così .\n",
      "--------------------------------------------------------------------------------\n",
      "Source: 'Let me see what was it?' he thought, trying to recall his dream.\n",
      "Target: “Già già, com’è andata? — pensava riandando al sogno. — Già, com’è andata?\n",
      "Predicted: — Be ’, come va ? — chiese , dopo aver visto una volta da pranzo .\n",
      "--------------------------------------------------------------------------------\n",
      "Source: He entered her boudoir and without saying 'Good morning!' went straight to her writing-table, took up her keys, and opened the drawer.\n",
      "Target: Entrò nella stanza e, senza salutarla, si diresse diritto verso lo scrittoio e, afferrate le chiavi, aprì il cassetto.\n",
      "Predicted: Egli si alzò e , si voltò a guardare : “ con un tratto di nuovo , di lei e si mise a guardare la mano .\n",
      "--------------------------------------------------------------------------------\n",
      "Source: In another moment I was within that apartment.\n",
      "Target: Un momento dopo ero entrata.\n",
      "Predicted: il quadro si avvicinò e mi fece scuotere .\n",
      "--------------------------------------------------------------------------------\n",
      "Source: \"I'll kiss you and welcome: bend your head down.\"\n",
      "Target: — Oh, no. Voglio abbracciarvi e mi farete tanto piacere; abbassate un poco la testa.\n",
      "Predicted: — Vi ringrazio . Andate presto a la mano .\n",
      "--------------------------------------------------------------------------------\n",
      "Source: Again turning to the reading-desk the priest with some difficulty picked up Kitty's little ring, and asking Levin for his hand put the ring on the tip of his finger.\n",
      "Target: Voltosi di nuovo verso il leggio, il sacerdote afferrò con difficoltà il piccolo anello di Kitty e, chiesta la mano di Levin, glielo infilò nella prima falange del dito.\n",
      "Predicted: i suoi affari , Levin si avvicinavano in un po ’ di raso nero del fratello , come nella testa , come al fratello , Levin si mise a Pietroburgo , mentre la mano la mano fuori verso la mano al viso di nuovo .\n",
      "--------------------------------------------------------------------------------\n",
      "Source: 'But I don't consider that she has fallen lower than hundreds of people whom you do receive!' said Vronsky still more gloomily, and rose in silence, having understood that his sister-in-law's determination was final.\n",
      "Target: — Ma io non considero ch’ella sia caduta più in basso di quanto non lo siano centinaia di donne che voi ricevete! — la interruppe ancora più cupo Vronskij, e si alzò in silenzio, avendo capito che la decisione della cognata era irremovibile.\n",
      "Predicted: — Non so , non posso , ma noi i suoi rapporti con tristezza ora solo i capelli — disse , e voi dopo aver notato se stessa , come se vuoi ...\n"
     ]
    }
   ],
   "source": [
    "run_validation(model, val_dataloader, tokenizer_src, tokenizer_tgt, config['seq_len'], device, lambda msg: print(msg), 0, None, num_examples = 10)"
   ]
  }
 ],
 "metadata": {
  "kernelspec": {
   "display_name": "Python 3",
   "language": "python",
   "name": "python3"
  },
  "language_info": {
   "codemirror_mode": {
    "name": "ipython",
    "version": 3
   },
   "file_extension": ".py",
   "mimetype": "text/x-python",
   "name": "python",
   "nbconvert_exporter": "python",
   "pygments_lexer": "ipython3",
   "version": "3.9.20"
  }
 },
 "nbformat": 4,
 "nbformat_minor": 2
}
